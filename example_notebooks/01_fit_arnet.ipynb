{
 "cells": [
  {
   "cell_type": "code",
   "execution_count": 1,
   "metadata": {},
   "outputs": [],
   "source": [
    "import numpy as np\n",
    "import pandas as pd\n",
    "import os\n",
    "import torch\n",
    "import arnet\n",
    "from arnet import ARNet\n",
    "import matplotlib.pyplot as plt\n",
    "%matplotlib inline"
   ]
  },
  {
   "cell_type": "code",
   "execution_count": 2,
   "metadata": {},
   "outputs": [],
   "source": [
    "DIR = os.path.dirname(os.path.abspath(''))\n",
    "data_path = os.path.join(DIR, 'ar_data')\n",
    "name = 'ar_3_ma_0_noise_0.100_len_10000'\n",
    "df = pd.read_csv(os.path.join(data_path, name + '.csv'), header=None, index_col=False)"
   ]
  },
  {
   "cell_type": "code",
   "execution_count": 3,
   "metadata": {},
   "outputs": [
    {
     "name": "stderr",
     "output_type": "stream",
     "text": [
      "INFO: ARNet - tabularize: estimated noise of series: 0.12853080551811422\n",
      "INFO: ARNet - create_regularizer: reg lam (max): 0.009999999980000004\n"
     ]
    },
    {
     "data": {
      "text/html": [],
      "text/plain": [
       "<IPython.core.display.HTML object>"
      ]
     },
     "metadata": {},
     "output_type": "display_data"
    },
    {
     "data": {
      "image/png": "[encoded data removed]",
      "text/plain": [
       "<Figure size 432x288 with 1 Axes>"
      ]
     },
     "metadata": {
      "needs_background": "light"
     },
     "output_type": "display_data"
    },
    {
     "name": "stderr",
     "output_type": "stream",
     "text": [
      "INFO: ARNet - find_lr: Optimal learning rate: 0.1369830012321472\n"
     ]
    },
    {
     "data": {
      "text/html": [
       "<table border=\"1\" class=\"dataframe\">\n",
       "  <thead>\n",
       "    <tr style=\"text-align: left;\">\n",
       "      <th>epoch</th>\n",
       "      <th>train_loss</th>\n",
       "      <th>valid_loss</th>\n",
       "      <th>mse</th>\n",
       "      <th>mae</th>\n",
       "      <th>time</th>\n",
       "    </tr>\n",
       "  </thead>\n",
       "  <tbody>\n",
       "    <tr>\n",
       "      <td>0</td>\n",
       "      <td>0.010955</td>\n",
       "      <td>0.010912</td>\n",
       "      <td>0.010912</td>\n",
       "      <td>0.084099</td>\n",
       "      <td>00:01</td>\n",
       "    </tr>\n",
       "    <tr>\n",
       "      <td>1</td>\n",
       "      <td>0.012936</td>\n",
       "      <td>0.010850</td>\n",
       "      <td>0.010850</td>\n",
       "      <td>0.083003</td>\n",
       "      <td>00:01</td>\n",
       "    </tr>\n",
       "    <tr>\n",
       "      <td>2</td>\n",
       "      <td>0.013433</td>\n",
       "      <td>0.010741</td>\n",
       "      <td>0.010741</td>\n",
       "      <td>0.082137</td>\n",
       "      <td>00:01</td>\n",
       "    </tr>\n",
       "    <tr>\n",
       "      <td>3</td>\n",
       "      <td>0.014620</td>\n",
       "      <td>0.010933</td>\n",
       "      <td>0.010933</td>\n",
       "      <td>0.082773</td>\n",
       "      <td>00:01</td>\n",
       "    </tr>\n",
       "    <tr>\n",
       "      <td>4</td>\n",
       "      <td>0.015200</td>\n",
       "      <td>0.010846</td>\n",
       "      <td>0.010846</td>\n",
       "      <td>0.083539</td>\n",
       "      <td>00:01</td>\n",
       "    </tr>\n",
       "    <tr>\n",
       "      <td>5</td>\n",
       "      <td>0.014374</td>\n",
       "      <td>0.011287</td>\n",
       "      <td>0.011287</td>\n",
       "      <td>0.083522</td>\n",
       "      <td>00:01</td>\n",
       "    </tr>\n",
       "    <tr>\n",
       "      <td>6</td>\n",
       "      <td>0.013678</td>\n",
       "      <td>0.010433</td>\n",
       "      <td>0.010433</td>\n",
       "      <td>0.081839</td>\n",
       "      <td>00:01</td>\n",
       "    </tr>\n",
       "    <tr>\n",
       "      <td>7</td>\n",
       "      <td>0.013177</td>\n",
       "      <td>0.010253</td>\n",
       "      <td>0.010253</td>\n",
       "      <td>0.080798</td>\n",
       "      <td>00:01</td>\n",
       "    </tr>\n",
       "    <tr>\n",
       "      <td>8</td>\n",
       "      <td>0.012035</td>\n",
       "      <td>0.010105</td>\n",
       "      <td>0.010105</td>\n",
       "      <td>0.080134</td>\n",
       "      <td>00:01</td>\n",
       "    </tr>\n",
       "    <tr>\n",
       "      <td>9</td>\n",
       "      <td>0.011887</td>\n",
       "      <td>0.010102</td>\n",
       "      <td>0.010102</td>\n",
       "      <td>0.080020</td>\n",
       "      <td>00:01</td>\n",
       "    </tr>\n",
       "  </tbody>\n",
       "</table>"
      ],
      "text/plain": [
       "<IPython.core.display.HTML object>"
      ]
     },
     "metadata": {},
     "output_type": "display_data"
    },
    {
     "data": {
      "image/png": "[encoded data removed]",
      "text/plain": [
       "<Figure size 432x288 with 1 Axes>"
      ]
     },
     "metadata": {
      "needs_background": "light"
     },
     "output_type": "display_data"
    }
   ],
   "source": [
    "m = arnet.ARNet(\n",
    "    ar_order=10,\n",
    "    sparsity=0.5,\n",
    "    n_epoch=10,\n",
    "    loss_func=\"MSE\",\n",
    "    valid_p=0.1,\n",
    "    use_gpu=False,\n",
    ")\n",
    "m = m.fit(df, plot=True)"
   ]
  },
  {
   "cell_type": "code",
   "execution_count": 4,
   "metadata": {},
   "outputs": [
    {
     "data": {
      "image/png": "[encoded data removed]",
      "text/plain": [
       "<Figure size 720x288 with 1 Axes>"
      ]
     },
     "metadata": {
      "needs_background": "light"
     },
     "output_type": "display_data"
    }
   ],
   "source": [
    "m.plot_weights()"
   ]
  }
 ],
 "metadata": {
  "kernelspec": {
   "display_name": "light-matter",
   "language": "python",
   "name": "light-matter"
  },
  "language_info": {
   "codemirror_mode": {
    "name": "ipython",
    "version": 3
   },
   "file_extension": ".py",
   "mimetype": "text/x-python",
   "name": "python",
   "nbconvert_exporter": "python",
   "pygments_lexer": "ipython3",
   "version": "3.8.6"
  }
 },
 "nbformat": 4,
 "nbformat_minor": 4
}
