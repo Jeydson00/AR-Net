{
 "cells": [
  {
   "cell_type": "code",
   "execution_count": 1,
   "metadata": {},
   "outputs": [],
   "source": [
    "import numpy as np\n",
    "import pandas as pd\n",
    "import os\n",
    "import torch\n",
    "import arnet\n",
    "from arnet import ARNet\n",
    "import matplotlib.pyplot as plt\n",
    "%matplotlib inline"
   ]
  },
  {
   "cell_type": "code",
   "execution_count": 2,
   "metadata": {},
   "outputs": [],
   "source": [
    "save = True\n",
    "debug = False\n",
    "\n",
    "lrs = [0.003]\n",
    "n_epoch = 10\n",
    "valid_p = 0.1\n",
    "train_bs = 32\n",
    "valid_bs = 1024\n",
    "experiments = [(10, 1.0), (10, 0.5)]"
   ]
  },
  {
   "cell_type": "code",
   "execution_count": 3,
   "metadata": {},
   "outputs": [],
   "source": [
    "DIR = os.path.dirname(os.path.abspath(''))\n",
    "data_path = os.path.join(DIR, 'ar_data')\n",
    "results_dir = os.path.join(DIR, 'results')\n",
    "if not os.path.exists(results_dir): \n",
    "    os.makedirs(results_dir)        \n",
    "\n",
    "data_names = ['ar_3_ma_0_noise_0.100_len_10000'] "
   ]
  },
  {
   "cell_type": "code",
   "execution_count": 4,
   "metadata": {},
   "outputs": [],
   "source": [
    "if debug:\n",
    "    experiments = [experiments[2]]\n",
    "    lrs = [lrs[0]]\n",
    "    data_names = [data_names[1]]"
   ]
  },
  {
   "cell_type": "code",
   "execution_count": 5,
   "metadata": {},
   "outputs": [],
   "source": [
    "def run(name, ar_order, sparsity, lr):\n",
    "    print(\"fitting: {} with ar_order: {}, sparsity: {}, lr: {}\".format(name, ar_order, sparsity, lr))\n",
    "    df = pd.read_csv(os.path.join(data_path, name + '.csv'), header=None, index_col=False)\n",
    "    if debug:\n",
    "        df = df[:10000]\n",
    "        print(\"debug len df\", len(df))\n",
    "\n",
    "    m = arnet.ARNet(\n",
    "        ar_order=ar_order,\n",
    "        sparsity=sparsity,\n",
    "        lr=lr, \n",
    "        n_epoch=n_epoch,\n",
    "        loss_func=\"MSE\",\n",
    "        valid_p=valid_p,\n",
    "        train_bs=train_bs,\n",
    "        valid_bs=valid_bs,\n",
    "        use_gpu=False,\n",
    "    )\n",
    "    m.fit(df, plot=True)\n",
    "\n",
    "    if save:\n",
    "        arnet.plot_weights(\n",
    "            ar_val=ar_order,\n",
    "            weights=m.coeff[0],\n",
    "            model_name=\"{}_ar-{}_spar-{}_lr-{}\".format(name, ar_order, sparsity, lr),\n",
    "            save=True,\n",
    "            savedir=results_dir,\n",
    "        )\n",
    "        plt.show()\n",
    "    print(\"DONE with {}\".format(name))\n",
    "    return {\"name\": name, \"ar\": ar_order, \"dense\": sparsity, \"lr\": lr, \"coeff\": m.coeff[0]}"
   ]
  },
  {
   "cell_type": "code",
   "execution_count": 6,
   "metadata": {},
   "outputs": [
    {
     "name": "stderr",
     "output_type": "stream",
     "text": [
      "INFO: ARNet - tabularize: estimated noise of series: 0.12853080551811422\n"
     ]
    },
    {
     "name": "stdout",
     "output_type": "stream",
     "text": [
      "fitting: ar_3_ma_0_noise_0.100_len_10000 with ar_order: 10, sparsity: 1.0, lr: 0.003\n"
     ]
    },
    {
     "name": "stderr",
     "output_type": "stream",
     "text": [
      "INFO: ARNet - create_regularizer: reg lam (max): 0.0\n"
     ]
    },
    {
     "data": {
      "text/html": [
       "<table border=\"1\" class=\"dataframe\">\n",
       "  <thead>\n",
       "    <tr style=\"text-align: left;\">\n",
       "      <th>epoch</th>\n",
       "      <th>train_loss</th>\n",
       "      <th>valid_loss</th>\n",
       "      <th>mse</th>\n",
       "      <th>mae</th>\n",
       "      <th>time</th>\n",
       "    </tr>\n",
       "  </thead>\n",
       "  <tbody>\n",
       "    <tr>\n",
       "      <td>0</td>\n",
       "      <td>0.018363</td>\n",
       "      <td>0.015850</td>\n",
       "      <td>0.015850</td>\n",
       "      <td>0.099889</td>\n",
       "      <td>00:01</td>\n",
       "    </tr>\n",
       "    <tr>\n",
       "      <td>1</td>\n",
       "      <td>0.011116</td>\n",
       "      <td>0.010871</td>\n",
       "      <td>0.010871</td>\n",
       "      <td>0.083056</td>\n",
       "      <td>00:01</td>\n",
       "    </tr>\n",
       "    <tr>\n",
       "      <td>2</td>\n",
       "      <td>0.010437</td>\n",
       "      <td>0.010159</td>\n",
       "      <td>0.010159</td>\n",
       "      <td>0.080177</td>\n",
       "      <td>00:01</td>\n",
       "    </tr>\n",
       "    <tr>\n",
       "      <td>3</td>\n",
       "      <td>0.010540</td>\n",
       "      <td>0.010154</td>\n",
       "      <td>0.010154</td>\n",
       "      <td>0.080357</td>\n",
       "      <td>00:01</td>\n",
       "    </tr>\n",
       "    <tr>\n",
       "      <td>4</td>\n",
       "      <td>0.010396</td>\n",
       "      <td>0.010114</td>\n",
       "      <td>0.010114</td>\n",
       "      <td>0.080212</td>\n",
       "      <td>00:01</td>\n",
       "    </tr>\n",
       "    <tr>\n",
       "      <td>5</td>\n",
       "      <td>0.009697</td>\n",
       "      <td>0.010013</td>\n",
       "      <td>0.010013</td>\n",
       "      <td>0.079570</td>\n",
       "      <td>00:01</td>\n",
       "    </tr>\n",
       "    <tr>\n",
       "      <td>6</td>\n",
       "      <td>0.009918</td>\n",
       "      <td>0.010077</td>\n",
       "      <td>0.010077</td>\n",
       "      <td>0.080007</td>\n",
       "      <td>00:01</td>\n",
       "    </tr>\n",
       "    <tr>\n",
       "      <td>7</td>\n",
       "      <td>0.010216</td>\n",
       "      <td>0.010061</td>\n",
       "      <td>0.010061</td>\n",
       "      <td>0.079931</td>\n",
       "      <td>00:01</td>\n",
       "    </tr>\n",
       "    <tr>\n",
       "      <td>8</td>\n",
       "      <td>0.009905</td>\n",
       "      <td>0.010061</td>\n",
       "      <td>0.010061</td>\n",
       "      <td>0.079925</td>\n",
       "      <td>00:01</td>\n",
       "    </tr>\n",
       "    <tr>\n",
       "      <td>9</td>\n",
       "      <td>0.009840</td>\n",
       "      <td>0.010057</td>\n",
       "      <td>0.010057</td>\n",
       "      <td>0.079897</td>\n",
       "      <td>00:01</td>\n",
       "    </tr>\n",
       "  </tbody>\n",
       "</table>"
      ],
      "text/plain": [
       "<IPython.core.display.HTML object>"
      ]
     },
     "metadata": {},
     "output_type": "display_data"
    },
    {
     "data": {
      "image/png": "[encoded data removed]",
      "text/plain": [
       "<Figure size 432x288 with 1 Axes>"
      ]
     },
     "metadata": {
      "needs_background": "light"
     },
     "output_type": "display_data"
    },
    {
     "data": {
      "image/png": "[encoded data removed]",
      "text/plain": [
       "<Figure size 720x288 with 1 Axes>"
      ]
     },
     "metadata": {
      "needs_background": "light"
     },
     "output_type": "display_data"
    },
    {
     "name": "stderr",
     "output_type": "stream",
     "text": [
      "INFO: ARNet - tabularize: estimated noise of series: 0.12853080551811422\n"
     ]
    },
    {
     "name": "stdout",
     "output_type": "stream",
     "text": [
      "DONE with ar_3_ma_0_noise_0.100_len_10000\n",
      "fitting: ar_3_ma_0_noise_0.100_len_10000 with ar_order: 10, sparsity: 0.5, lr: 0.003\n"
     ]
    },
    {
     "name": "stderr",
     "output_type": "stream",
     "text": [
      "INFO: ARNet - create_regularizer: reg lam (max): 0.009999999980000004\n"
     ]
    },
    {
     "data": {
      "text/html": [
       "<table border=\"1\" class=\"dataframe\">\n",
       "  <thead>\n",
       "    <tr style=\"text-align: left;\">\n",
       "      <th>epoch</th>\n",
       "      <th>train_loss</th>\n",
       "      <th>valid_loss</th>\n",
       "      <th>mse</th>\n",
       "      <th>mae</th>\n",
       "      <th>time</th>\n",
       "    </tr>\n",
       "  </thead>\n",
       "  <tbody>\n",
       "    <tr>\n",
       "      <td>0</td>\n",
       "      <td>0.027636</td>\n",
       "      <td>0.018755</td>\n",
       "      <td>0.018755</td>\n",
       "      <td>0.109487</td>\n",
       "      <td>00:01</td>\n",
       "    </tr>\n",
       "    <tr>\n",
       "      <td>1</td>\n",
       "      <td>0.011109</td>\n",
       "      <td>0.010290</td>\n",
       "      <td>0.010290</td>\n",
       "      <td>0.080812</td>\n",
       "      <td>00:01</td>\n",
       "    </tr>\n",
       "    <tr>\n",
       "      <td>2</td>\n",
       "      <td>0.010721</td>\n",
       "      <td>0.010131</td>\n",
       "      <td>0.010131</td>\n",
       "      <td>0.080181</td>\n",
       "      <td>00:01</td>\n",
       "    </tr>\n",
       "    <tr>\n",
       "      <td>3</td>\n",
       "      <td>0.011289</td>\n",
       "      <td>0.010114</td>\n",
       "      <td>0.010114</td>\n",
       "      <td>0.080131</td>\n",
       "      <td>00:01</td>\n",
       "    </tr>\n",
       "    <tr>\n",
       "      <td>4</td>\n",
       "      <td>0.011894</td>\n",
       "      <td>0.010085</td>\n",
       "      <td>0.010085</td>\n",
       "      <td>0.079902</td>\n",
       "      <td>00:01</td>\n",
       "    </tr>\n",
       "    <tr>\n",
       "      <td>5</td>\n",
       "      <td>0.011902</td>\n",
       "      <td>0.010098</td>\n",
       "      <td>0.010098</td>\n",
       "      <td>0.079976</td>\n",
       "      <td>00:01</td>\n",
       "    </tr>\n",
       "    <tr>\n",
       "      <td>6</td>\n",
       "      <td>0.011696</td>\n",
       "      <td>0.010090</td>\n",
       "      <td>0.010090</td>\n",
       "      <td>0.079965</td>\n",
       "      <td>00:01</td>\n",
       "    </tr>\n",
       "    <tr>\n",
       "      <td>7</td>\n",
       "      <td>0.012019</td>\n",
       "      <td>0.010076</td>\n",
       "      <td>0.010076</td>\n",
       "      <td>0.079895</td>\n",
       "      <td>00:01</td>\n",
       "    </tr>\n",
       "    <tr>\n",
       "      <td>8</td>\n",
       "      <td>0.011593</td>\n",
       "      <td>0.010085</td>\n",
       "      <td>0.010085</td>\n",
       "      <td>0.079948</td>\n",
       "      <td>00:01</td>\n",
       "    </tr>\n",
       "    <tr>\n",
       "      <td>9</td>\n",
       "      <td>0.011721</td>\n",
       "      <td>0.010083</td>\n",
       "      <td>0.010083</td>\n",
       "      <td>0.079941</td>\n",
       "      <td>00:01</td>\n",
       "    </tr>\n",
       "  </tbody>\n",
       "</table>"
      ],
      "text/plain": [
       "<IPython.core.display.HTML object>"
      ]
     },
     "metadata": {},
     "output_type": "display_data"
    },
    {
     "data": {
      "image/png": "[encoded data removed]",
      "text/plain": [
       "<Figure size 432x288 with 1 Axes>"
      ]
     },
     "metadata": {
      "needs_background": "light"
     },
     "output_type": "display_data"
    },
    {
     "data": {
      "image/png": "[encoded data removed]",
      "text/plain": [
       "<Figure size 720x288 with 1 Axes>"
      ]
     },
     "metadata": {
      "needs_background": "light"
     },
     "output_type": "display_data"
    },
    {
     "name": "stdout",
     "output_type": "stream",
     "text": [
      "DONE with ar_3_ma_0_noise_0.100_len_10000\n",
      "DONE\n"
     ]
    }
   ],
   "source": [
    "coeff_list = []\n",
    "for ar_order, sparsity in experiments:\n",
    "    for name in data_names:\n",
    "        for lr in lrs:\n",
    "            coeff_list.append(run(name, ar_order, sparsity, lr))\n",
    "            df_coeff = pd.DataFrame(coeff_list)\n",
    "            if save:\n",
    "                df_coeff.to_csv(os.path.join(results_dir, \"coeff.csv\"), index=False)\n",
    "print(\"DONE\")"
   ]
  }
 ],
 "metadata": {
  "kernelspec": {
   "display_name": "light-matter",
   "language": "python",
   "name": "light-matter"
  },
  "language_info": {
   "codemirror_mode": {
    "name": "ipython",
    "version": 3
   },
   "file_extension": ".py",
   "mimetype": "text/x-python",
   "name": "python",
   "nbconvert_exporter": "python",
   "pygments_lexer": "ipython3",
   "version": "3.8.6"
  }
 },
 "nbformat": 4,
 "nbformat_minor": 4
}
